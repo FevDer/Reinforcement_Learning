{
  "nbformat": 4,
  "nbformat_minor": 0,
  "metadata": {
    "colab": {
      "provenance": [],
      "authorship_tag": "ABX9TyNvjYnreGmTochQJwW/E30w",
      "include_colab_link": true
    },
    "kernelspec": {
      "name": "python3",
      "display_name": "Python 3"
    },
    "language_info": {
      "name": "python"
    }
  },
  "cells": [
    {
      "cell_type": "markdown",
      "metadata": {
        "id": "view-in-github",
        "colab_type": "text"
      },
      "source": [
        "<a href=\"https://colab.research.google.com/github/FevDer/Reinforcement_Learning/blob/main/ReinforcementLearning.ipynb\" target=\"_parent\"><img src=\"https://colab.research.google.com/assets/colab-badge.svg\" alt=\"Open In Colab\"/></a>"
      ]
    },
    {
      "cell_type": "code",
      "execution_count": 1,
      "metadata": {
        "colab": {
          "base_uri": "https://localhost:8080/"
        },
        "id": "VXinO36TwWJ7",
        "outputId": "c2678890-abb7-4e22-82ca-65cf2dc0b4e8"
      },
      "outputs": [
        {
          "output_type": "stream",
          "name": "stdout",
          "text": [
            "Collecting gymnasium\n",
            "  Downloading gymnasium-0.29.1-py3-none-any.whl (953 kB)\n",
            "\u001b[2K     \u001b[90m━━━━━━━━━━━━━━━━━━━━━━━━━━━━━━━━━━━━━━━━\u001b[0m \u001b[32m953.9/953.9 kB\u001b[0m \u001b[31m10.0 MB/s\u001b[0m eta \u001b[36m0:00:00\u001b[0m\n",
            "\u001b[?25hRequirement already satisfied: numpy in /usr/local/lib/python3.10/dist-packages (1.25.2)\n",
            "Requirement already satisfied: matplotlib in /usr/local/lib/python3.10/dist-packages (3.7.1)\n",
            "Requirement already satisfied: tqdm in /usr/local/lib/python3.10/dist-packages (4.66.4)\n",
            "Requirement already satisfied: cloudpickle>=1.2.0 in /usr/local/lib/python3.10/dist-packages (from gymnasium) (2.2.1)\n",
            "Requirement already satisfied: typing-extensions>=4.3.0 in /usr/local/lib/python3.10/dist-packages (from gymnasium) (4.11.0)\n",
            "Collecting farama-notifications>=0.0.1 (from gymnasium)\n",
            "  Downloading Farama_Notifications-0.0.4-py3-none-any.whl (2.5 kB)\n",
            "Requirement already satisfied: contourpy>=1.0.1 in /usr/local/lib/python3.10/dist-packages (from matplotlib) (1.2.1)\n",
            "Requirement already satisfied: cycler>=0.10 in /usr/local/lib/python3.10/dist-packages (from matplotlib) (0.12.1)\n",
            "Requirement already satisfied: fonttools>=4.22.0 in /usr/local/lib/python3.10/dist-packages (from matplotlib) (4.51.0)\n",
            "Requirement already satisfied: kiwisolver>=1.0.1 in /usr/local/lib/python3.10/dist-packages (from matplotlib) (1.4.5)\n",
            "Requirement already satisfied: packaging>=20.0 in /usr/local/lib/python3.10/dist-packages (from matplotlib) (24.0)\n",
            "Requirement already satisfied: pillow>=6.2.0 in /usr/local/lib/python3.10/dist-packages (from matplotlib) (9.4.0)\n",
            "Requirement already satisfied: pyparsing>=2.3.1 in /usr/local/lib/python3.10/dist-packages (from matplotlib) (3.1.2)\n",
            "Requirement already satisfied: python-dateutil>=2.7 in /usr/local/lib/python3.10/dist-packages (from matplotlib) (2.8.2)\n",
            "Requirement already satisfied: six>=1.5 in /usr/local/lib/python3.10/dist-packages (from python-dateutil>=2.7->matplotlib) (1.16.0)\n",
            "Installing collected packages: farama-notifications, gymnasium\n",
            "Successfully installed farama-notifications-0.0.4 gymnasium-0.29.1\n"
          ]
        }
      ],
      "source": [
        "# Install necessary libraries\n",
        "!pip install gymnasium numpy matplotlib tqdm\n",
        "\n",
        "import gymnasium as gym\n",
        "import numpy as np\n",
        "import matplotlib.pyplot as plt\n",
        "from tqdm import tqdm\n"
      ]
    },
    {
      "cell_type": "code",
      "source": [
        "# Value Iteration\n",
        "def value_iteration(env, gamma=0.99, theta=0.0001):\n",
        "    def one_step_lookahead(state, V):\n",
        "        A = np.zeros(env.action_space.n)\n",
        "        for a in range(env.action_space.n):\n",
        "            for prob, next_state, reward, done in env.P[state][a]:\n",
        "                A[a] += prob * (reward + gamma * V[next_state])\n",
        "        return A\n",
        "\n",
        "    V = np.zeros(env.observation_space.n)\n",
        "    while True:\n",
        "        delta = 0\n",
        "        for s in range(env.observation_space.n):\n",
        "            A = one_step_lookahead(s, V)\n",
        "            best_action_value = np.max(A)\n",
        "            delta = max(delta, np.abs(best_action_value - V[s]))\n",
        "            V[s] = best_action_value\n",
        "        if delta < theta:\n",
        "            break\n",
        "\n",
        "    policy = np.zeros([env.observation_space.n, env.action_space.n])\n",
        "    for s in range(env.observation_space.n):\n",
        "        A = one_step_lookahead(s, V)\n",
        "        best_action = np.argmax(A)\n",
        "        policy[s, best_action] = 1.0\n",
        "\n",
        "    return policy, V"
      ],
      "metadata": {
        "id": "rgX_OrRrwokR"
      },
      "execution_count": 2,
      "outputs": []
    },
    {
      "cell_type": "code",
      "source": [
        "# Policy Iteration\n",
        "def policy_iteration(env, gamma=0.99, theta=0.0001):\n",
        "    def policy_eval(policy, env, gamma, theta):\n",
        "        V = np.zeros(env.observation_space.n)\n",
        "        while True:\n",
        "            delta = 0\n",
        "            for s in range(env.observation_space.n):\n",
        "                v = 0\n",
        "                for a, action_prob in enumerate(policy[s]):\n",
        "                    for prob, next_state, reward, done in env.P[s][a]:\n",
        "                        v += action_prob * prob * (reward + gamma * V[next_state])\n",
        "                delta = max(delta, np.abs(v - V[s]))\n",
        "                V[s] = v\n",
        "            if delta < theta:\n",
        "                break\n",
        "        return V\n",
        "\n",
        "    def policy_improvement(V, env, gamma):\n",
        "        policy = np.zeros([env.observation_space.n, env.action_space.n])\n",
        "        for s in range(env.observation_space.n):\n",
        "            q = np.zeros(env.action_space.n)\n",
        "            for a in range(env.action_space.n):\n",
        "                for prob, next_state, reward, done in env.P[s][a]:\n",
        "                    q[a] += prob * (reward + gamma * V[next_state])\n",
        "            best_action = np.argmax(q)\n",
        "            policy[s, best_action] = 1.0\n",
        "        return policy\n",
        "\n",
        "    policy = np.ones([env.observation_space.n, env.action_space.n]) / env.action_space.n\n",
        "    while True:\n",
        "        V = policy_eval(policy, env, gamma, theta)\n",
        "        new_policy = policy_improvement(V, env, gamma)\n",
        "        if np.array_equal(new_policy, policy):\n",
        "            break\n",
        "        policy = new_policy\n",
        "    return policy, V\n"
      ],
      "metadata": {
        "id": "86knclVqwrwG"
      },
      "execution_count": 3,
      "outputs": []
    },
    {
      "cell_type": "code",
      "source": [
        "# Q-Learning\n",
        "def q_learning(env, num_episodes=500, gamma=0.99, alpha=0.1, epsilon=0.1):\n",
        "    q_table = np.zeros([env.observation_space.n, env.action_space.n])\n",
        "\n",
        "    for i in tqdm(range(num_episodes)):\n",
        "        state, _ = env.reset()\n",
        "        done = False\n",
        "\n",
        "        while not done:\n",
        "            if np.random.rand() < epsilon:\n",
        "                action = env.action_space.sample()\n",
        "            else:\n",
        "                action = np.argmax(q_table[state])\n",
        "\n",
        "            next_state, reward, done, _, _ = env.step(action)\n",
        "\n",
        "            q_table[state, action] = q_table[state, action] + alpha * (\n",
        "                reward + gamma * np.max(q_table[next_state]) - q_table[state, action]\n",
        "            )\n",
        "\n",
        "            state = next_state\n",
        "\n",
        "    policy = np.zeros([env.observation_space.n, env.action_space.n])\n",
        "    for s in range(env.observation_space.n):\n",
        "        best_action = np.argmax(q_table[s])\n",
        "        policy[s, best_action] = 1.0\n",
        "\n",
        "    return policy, q_table"
      ],
      "metadata": {
        "id": "Fz-HhepIw0Lx"
      },
      "execution_count": 4,
      "outputs": []
    },
    {
      "cell_type": "code",
      "source": [
        "# Epsilon-Greedy Policy\n",
        "def epsilon_greedy_policy(Q, state, epsilon):\n",
        "    if np.random.rand() < epsilon:\n",
        "        return np.random.randint(0, Q.shape[1])\n",
        "    else:\n",
        "        return np.argmax(Q[state])"
      ],
      "metadata": {
        "id": "WeSPqU8Fw9I1"
      },
      "execution_count": 5,
      "outputs": []
    },
    {
      "cell_type": "code",
      "source": [
        "# UCB Algorithm\n",
        "def ucb_action(Q, N, state, t, c=2):\n",
        "    total_counts = np.sum(N[state])\n",
        "    if total_counts == 0:\n",
        "        return np.random.randint(0, Q.shape[1])\n",
        "    ucb_values = Q[state] + c * np.sqrt(np.log(t + 1) / (N[state] + 1))\n",
        "    return np.argmax(ucb_values)"
      ],
      "metadata": {
        "id": "bcrGjn13xJDV"
      },
      "execution_count": 16,
      "outputs": []
    },
    {
      "cell_type": "code",
      "source": [
        "# Initialize environment\n",
        "env = gym.make('FrozenLake-v1', is_slippery=False)\n"
      ],
      "metadata": {
        "id": "zGC5FUKKxR96"
      },
      "execution_count": 7,
      "outputs": []
    },
    {
      "cell_type": "code",
      "source": [
        "# Value Iteration\n",
        "policy_vi, v_vi = value_iteration(env)\n",
        "print(\"Value Iteration Policy:\")\n",
        "print(policy_vi)\n",
        "print(\"\")"
      ],
      "metadata": {
        "colab": {
          "base_uri": "https://localhost:8080/"
        },
        "id": "xrFWGdfzxXN2",
        "outputId": "bb78b331-3591-4d05-f1d0-bf7ceadb4525"
      },
      "execution_count": 8,
      "outputs": [
        {
          "output_type": "stream",
          "name": "stdout",
          "text": [
            "Value Iteration Policy:\n",
            "[[0. 1. 0. 0.]\n",
            " [0. 0. 1. 0.]\n",
            " [0. 1. 0. 0.]\n",
            " [1. 0. 0. 0.]\n",
            " [0. 1. 0. 0.]\n",
            " [1. 0. 0. 0.]\n",
            " [0. 1. 0. 0.]\n",
            " [1. 0. 0. 0.]\n",
            " [0. 0. 1. 0.]\n",
            " [0. 1. 0. 0.]\n",
            " [0. 1. 0. 0.]\n",
            " [1. 0. 0. 0.]\n",
            " [1. 0. 0. 0.]\n",
            " [0. 0. 1. 0.]\n",
            " [0. 0. 1. 0.]\n",
            " [1. 0. 0. 0.]]\n",
            "\n"
          ]
        },
        {
          "output_type": "stream",
          "name": "stderr",
          "text": [
            "/usr/local/lib/python3.10/dist-packages/gymnasium/core.py:311: UserWarning: \u001b[33mWARN: env.P to get variables from other wrappers is deprecated and will be removed in v1.0, to get this variable you can do `env.unwrapped.P` for environment variables or `env.get_wrapper_attr('P')` that will search the reminding wrappers.\u001b[0m\n",
            "  logger.warn(\n"
          ]
        }
      ]
    },
    {
      "cell_type": "code",
      "source": [
        "# Policy Iteration\n",
        "policy_pi, v_pi = policy_iteration(env)\n",
        "print(\"Policy Iteration Policy:\")\n",
        "print(policy_pi)\n",
        "print(\"\")"
      ],
      "metadata": {
        "colab": {
          "base_uri": "https://localhost:8080/"
        },
        "id": "iWgso3E3xfiR",
        "outputId": "b2ae6f73-561a-414e-c175-447955d3d5f6"
      },
      "execution_count": 9,
      "outputs": [
        {
          "output_type": "stream",
          "name": "stdout",
          "text": [
            "Policy Iteration Policy:\n",
            "[[0. 1. 0. 0.]\n",
            " [0. 0. 1. 0.]\n",
            " [0. 1. 0. 0.]\n",
            " [1. 0. 0. 0.]\n",
            " [0. 1. 0. 0.]\n",
            " [1. 0. 0. 0.]\n",
            " [0. 1. 0. 0.]\n",
            " [1. 0. 0. 0.]\n",
            " [0. 0. 1. 0.]\n",
            " [0. 1. 0. 0.]\n",
            " [0. 1. 0. 0.]\n",
            " [1. 0. 0. 0.]\n",
            " [1. 0. 0. 0.]\n",
            " [0. 0. 1. 0.]\n",
            " [0. 0. 1. 0.]\n",
            " [1. 0. 0. 0.]]\n",
            "\n"
          ]
        }
      ]
    },
    {
      "cell_type": "code",
      "source": [
        "# Q-Learning Execution\n",
        "policy_ql, q_table = q_learning(env)\n",
        "print(\"Q-Learning Policy:\")\n",
        "print(policy_ql)\n",
        "print(\"\")"
      ],
      "metadata": {
        "colab": {
          "base_uri": "https://localhost:8080/"
        },
        "id": "z0XUKS32xi2F",
        "outputId": "c27b80c5-68ab-4759-d7bf-ef80ef5395ce"
      },
      "execution_count": 10,
      "outputs": [
        {
          "output_type": "stream",
          "name": "stderr",
          "text": [
            "100%|██████████| 500/500 [00:01<00:00, 338.18it/s]"
          ]
        },
        {
          "output_type": "stream",
          "name": "stdout",
          "text": [
            "Q-Learning Policy:\n",
            "[[1. 0. 0. 0.]\n",
            " [1. 0. 0. 0.]\n",
            " [1. 0. 0. 0.]\n",
            " [1. 0. 0. 0.]\n",
            " [1. 0. 0. 0.]\n",
            " [1. 0. 0. 0.]\n",
            " [1. 0. 0. 0.]\n",
            " [1. 0. 0. 0.]\n",
            " [1. 0. 0. 0.]\n",
            " [1. 0. 0. 0.]\n",
            " [1. 0. 0. 0.]\n",
            " [1. 0. 0. 0.]\n",
            " [1. 0. 0. 0.]\n",
            " [1. 0. 0. 0.]\n",
            " [1. 0. 0. 0.]\n",
            " [1. 0. 0. 0.]]\n",
            "\n"
          ]
        },
        {
          "output_type": "stream",
          "name": "stderr",
          "text": [
            "\n"
          ]
        }
      ]
    },
    {
      "cell_type": "code",
      "source": [
        "# Epsilon-Greedy Policy Demonstration\n",
        "print(\"Epsilon-Greedy Policy Demonstration:\")\n",
        "state, _ = env.reset()\n",
        "done = False\n",
        "while not done:\n",
        "    action = epsilon_greedy_policy(q_table, state, epsilon=0.1)\n",
        "    state, reward, done, _, _ = env.step(action)\n",
        "    env.render()\n",
        "    if done:\n",
        "        break"
      ],
      "metadata": {
        "colab": {
          "base_uri": "https://localhost:8080/"
        },
        "id": "m6ctuSPrxpVm",
        "outputId": "826b2727-c5ac-4662-e265-617fed2cddd2"
      },
      "execution_count": 11,
      "outputs": [
        {
          "output_type": "stream",
          "name": "stdout",
          "text": [
            "Epsilon-Greedy Policy Demonstration:\n"
          ]
        },
        {
          "output_type": "stream",
          "name": "stderr",
          "text": [
            "/usr/local/lib/python3.10/dist-packages/gymnasium/envs/toy_text/frozen_lake.py:328: UserWarning: \u001b[33mWARN: You are calling render method without specifying any render mode. You can specify the render_mode at initialization, e.g. gym.make(\"FrozenLake-v1\", render_mode=\"rgb_array\")\u001b[0m\n",
            "  gym.logger.warn(\n"
          ]
        }
      ]
    },
    {
      "cell_type": "code",
      "source": [
        "# UCB Algorithm Demonstration\n",
        "print(\"UCB Algorithm Demonstration:\")\n",
        "num_episodes = 500  # Reduce the number of episodes\n",
        "Q = np.zeros((env.observation_space.n, env.action_space.n))\n",
        "N = np.zeros((env.observation_space.n, env.action_space.n))\n",
        "gamma = 0.99  # Define gamma for UCB Algorithm\n",
        "\n",
        "for t in range(num_episodes):\n",
        "    state, _ = env.reset()\n",
        "    done = False\n",
        "    while not done:\n",
        "        action = ucb_action(Q, N, state, t)\n",
        "        next_state, reward, done, _, _ = env.step(action)\n",
        "        N[state, action] += 1\n",
        "        Q[state, action] += (reward + gamma * np.max(Q[next_state]) - Q[state, action]) / N[state, action]\n",
        "        state = next_state\n",
        "\n",
        "print(\"UCB Algorithm Policy:\")\n",
        "policy_ucb = np.zeros([env.observation_space.n, env.action_space.n])\n",
        "for s in range(env.observation_space.n):\n",
        "    best_action = np.argmax(Q[s])\n",
        "    policy_ucb[s, best_action] = 1.0\n",
        "print(policy_ucb)"
      ],
      "metadata": {
        "colab": {
          "base_uri": "https://localhost:8080/"
        },
        "id": "3B5UYF741wVK",
        "outputId": "2565c589-4445-4cb0-c1c0-7782801592b2"
      },
      "execution_count": null,
      "outputs": [
        {
          "output_type": "stream",
          "name": "stdout",
          "text": [
            "UCB Algorithm Demonstration:\n"
          ]
        }
      ]
    }
  ]
}